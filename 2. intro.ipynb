{
 "cells": [
  {
   "attachments": {},
   "cell_type": "markdown",
   "metadata": {},
   "source": [
    "## Logistic Regression\n",
    "\n",
    "### Sigmoid Function\n",
    "y = sigmoid(transpose(w)*x + b)\\\n",
    "b -> interceptor\n",
    "\n",
    "### Loss Function\n",
    "J(w, b) = (1/m)*sum(y*log(y) + (1-y)*log(1-y))"
   ]
  }
 ],
 "metadata": {
  "language_info": {
   "name": "python"
  },
  "orig_nbformat": 4
 },
 "nbformat": 4,
 "nbformat_minor": 2
}
